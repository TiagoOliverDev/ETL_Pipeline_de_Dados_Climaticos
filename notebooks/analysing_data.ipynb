{
 "cells": [
  {
   "cell_type": "markdown",
   "id": "0a8305ef",
   "metadata": {},
   "source": [
    "Análise e Modelagem dos Dados Climáticos"
   ]
  },
  {
   "cell_type": "code",
   "execution_count": null,
   "id": "cf9cdc09",
   "metadata": {},
   "outputs": [],
   "source": [
    "# --- Importações básicas e configs ---\n",
    "import pandas as pd\n",
    "import numpy as np\n",
    "import matplotlib.pyplot as plt\n",
    "import seaborn as sns\n",
    "from pathlib import Path\n",
    "from datetime import datetime\n",
    "\n",
    "# Modelagem simples\n",
    "from sklearn.model_selection import train_test_split\n",
    "from sklearn.linear_model import LinearRegression\n",
    "from sklearn.metrics import root_mean_squared_error, r2_score\n",
    "\n",
    "sns.set(style=\"whitegrid\")\n",
    "plt.rcParams['figure.figsize'] = (12, 6)\n",
    "\n",
    "# Caminhos para dados\n",
    "RAW_DATA_DIR = Path('../data/raw')\n",
    "PROCESSED_DATA_DIR = Path('../data/processed')\n"
   ]
  },
  {
   "cell_type": "markdown",
   "id": "a7b84a67",
   "metadata": {},
   "source": [
    "1. Carregando e Transformando Dados"
   ]
  },
  {
   "cell_type": "code",
   "execution_count": 14,
   "id": "524aa4bf",
   "metadata": {},
   "outputs": [
    {
     "name": "stdout",
     "output_type": "stream",
     "text": [
      "Dados brutos carregados:\n"
     ]
    },
    {
     "data": {
      "text/html": [
       "<div>\n",
       "<style scoped>\n",
       "    .dataframe tbody tr th:only-of-type {\n",
       "        vertical-align: middle;\n",
       "    }\n",
       "\n",
       "    .dataframe tbody tr th {\n",
       "        vertical-align: top;\n",
       "    }\n",
       "\n",
       "    .dataframe thead th {\n",
       "        text-align: right;\n",
       "    }\n",
       "</style>\n",
       "<table border=\"1\" class=\"dataframe\">\n",
       "  <thead>\n",
       "    <tr style=\"text-align: right;\">\n",
       "      <th></th>\n",
       "      <th>latitude</th>\n",
       "      <th>longitude</th>\n",
       "      <th>generationtime_ms</th>\n",
       "      <th>utc_offset_seconds</th>\n",
       "      <th>timezone</th>\n",
       "      <th>timezone_abbreviation</th>\n",
       "      <th>elevation</th>\n",
       "      <th>current_weather_units</th>\n",
       "      <th>current_weather</th>\n",
       "    </tr>\n",
       "  </thead>\n",
       "  <tbody>\n",
       "    <tr>\n",
       "      <th>time</th>\n",
       "      <td>-5.75</td>\n",
       "      <td>-35.25</td>\n",
       "      <td>0.048161</td>\n",
       "      <td>-10800</td>\n",
       "      <td>America/Fortaleza</td>\n",
       "      <td>GMT-3</td>\n",
       "      <td>36</td>\n",
       "      <td>iso8601</td>\n",
       "      <td>2025-06-28T17:00</td>\n",
       "    </tr>\n",
       "    <tr>\n",
       "      <th>interval</th>\n",
       "      <td>-5.75</td>\n",
       "      <td>-35.25</td>\n",
       "      <td>0.048161</td>\n",
       "      <td>-10800</td>\n",
       "      <td>America/Fortaleza</td>\n",
       "      <td>GMT-3</td>\n",
       "      <td>36</td>\n",
       "      <td>seconds</td>\n",
       "      <td>900</td>\n",
       "    </tr>\n",
       "    <tr>\n",
       "      <th>temperature</th>\n",
       "      <td>-5.75</td>\n",
       "      <td>-35.25</td>\n",
       "      <td>0.048161</td>\n",
       "      <td>-10800</td>\n",
       "      <td>America/Fortaleza</td>\n",
       "      <td>GMT-3</td>\n",
       "      <td>36</td>\n",
       "      <td>°C</td>\n",
       "      <td>24.7</td>\n",
       "    </tr>\n",
       "    <tr>\n",
       "      <th>windspeed</th>\n",
       "      <td>-5.75</td>\n",
       "      <td>-35.25</td>\n",
       "      <td>0.048161</td>\n",
       "      <td>-10800</td>\n",
       "      <td>America/Fortaleza</td>\n",
       "      <td>GMT-3</td>\n",
       "      <td>36</td>\n",
       "      <td>km/h</td>\n",
       "      <td>10.0</td>\n",
       "    </tr>\n",
       "    <tr>\n",
       "      <th>winddirection</th>\n",
       "      <td>-5.75</td>\n",
       "      <td>-35.25</td>\n",
       "      <td>0.048161</td>\n",
       "      <td>-10800</td>\n",
       "      <td>America/Fortaleza</td>\n",
       "      <td>GMT-3</td>\n",
       "      <td>36</td>\n",
       "      <td>°</td>\n",
       "      <td>142</td>\n",
       "    </tr>\n",
       "  </tbody>\n",
       "</table>\n",
       "</div>"
      ],
      "text/plain": [
       "               latitude  longitude  generationtime_ms  utc_offset_seconds  \\\n",
       "time              -5.75     -35.25           0.048161              -10800   \n",
       "interval          -5.75     -35.25           0.048161              -10800   \n",
       "temperature       -5.75     -35.25           0.048161              -10800   \n",
       "windspeed         -5.75     -35.25           0.048161              -10800   \n",
       "winddirection     -5.75     -35.25           0.048161              -10800   \n",
       "\n",
       "                        timezone timezone_abbreviation  elevation  \\\n",
       "time           America/Fortaleza                 GMT-3         36   \n",
       "interval       America/Fortaleza                 GMT-3         36   \n",
       "temperature    America/Fortaleza                 GMT-3         36   \n",
       "windspeed      America/Fortaleza                 GMT-3         36   \n",
       "winddirection  America/Fortaleza                 GMT-3         36   \n",
       "\n",
       "              current_weather_units   current_weather  \n",
       "time                        iso8601  2025-06-28T17:00  \n",
       "interval                    seconds               900  \n",
       "temperature                      °C              24.7  \n",
       "windspeed                      km/h              10.0  \n",
       "winddirection                     °               142  "
      ]
     },
     "metadata": {},
     "output_type": "display_data"
    },
    {
     "ename": "KeyError",
     "evalue": "'measurement_datetime'",
     "output_type": "error",
     "traceback": [
      "\u001b[31m---------------------------------------------------------------------------\u001b[39m",
      "\u001b[31mKeyError\u001b[39m                                  Traceback (most recent call last)",
      "\u001b[36mFile \u001b[39m\u001b[32mc:\\Users\\tiago\\Desktop\\Asimov\\Engenheiro_de_dados\\Projetos\\dados-climaticos-etl-natal\\envetl\\Lib\\site-packages\\pandas\\core\\indexes\\base.py:3812\u001b[39m, in \u001b[36mIndex.get_loc\u001b[39m\u001b[34m(self, key)\u001b[39m\n\u001b[32m   3811\u001b[39m \u001b[38;5;28;01mtry\u001b[39;00m:\n\u001b[32m-> \u001b[39m\u001b[32m3812\u001b[39m     \u001b[38;5;28;01mreturn\u001b[39;00m \u001b[38;5;28;43mself\u001b[39;49m\u001b[43m.\u001b[49m\u001b[43m_engine\u001b[49m\u001b[43m.\u001b[49m\u001b[43mget_loc\u001b[49m\u001b[43m(\u001b[49m\u001b[43mcasted_key\u001b[49m\u001b[43m)\u001b[49m\n\u001b[32m   3813\u001b[39m \u001b[38;5;28;01mexcept\u001b[39;00m \u001b[38;5;167;01mKeyError\u001b[39;00m \u001b[38;5;28;01mas\u001b[39;00m err:\n",
      "\u001b[36mFile \u001b[39m\u001b[32mpandas/_libs/index.pyx:167\u001b[39m, in \u001b[36mpandas._libs.index.IndexEngine.get_loc\u001b[39m\u001b[34m()\u001b[39m\n",
      "\u001b[36mFile \u001b[39m\u001b[32mpandas/_libs/index.pyx:196\u001b[39m, in \u001b[36mpandas._libs.index.IndexEngine.get_loc\u001b[39m\u001b[34m()\u001b[39m\n",
      "\u001b[36mFile \u001b[39m\u001b[32mpandas/_libs/hashtable_class_helper.pxi:7088\u001b[39m, in \u001b[36mpandas._libs.hashtable.PyObjectHashTable.get_item\u001b[39m\u001b[34m()\u001b[39m\n",
      "\u001b[36mFile \u001b[39m\u001b[32mpandas/_libs/hashtable_class_helper.pxi:7096\u001b[39m, in \u001b[36mpandas._libs.hashtable.PyObjectHashTable.get_item\u001b[39m\u001b[34m()\u001b[39m\n",
      "\u001b[31mKeyError\u001b[39m: 'measurement_datetime'",
      "\nThe above exception was the direct cause of the following exception:\n",
      "\u001b[31mKeyError\u001b[39m                                  Traceback (most recent call last)",
      "\u001b[36mCell\u001b[39m\u001b[36m \u001b[39m\u001b[32mIn[14]\u001b[39m\u001b[32m, line 23\u001b[39m\n\u001b[32m     20\u001b[39m     df[\u001b[33m'\u001b[39m\u001b[33mmeasurement_datetime\u001b[39m\u001b[33m'\u001b[39m] = pd.to_datetime(df[\u001b[33m'\u001b[39m\u001b[33mmeasurement_datetime\u001b[39m\u001b[33m'\u001b[39m])\n\u001b[32m     21\u001b[39m     \u001b[38;5;28;01mreturn\u001b[39;00m df\n\u001b[32m---> \u001b[39m\u001b[32m23\u001b[39m df = \u001b[43mtransform_raw_to_df\u001b[49m\u001b[43m(\u001b[49m\u001b[43mraw_df\u001b[49m\u001b[43m)\u001b[49m\n\u001b[32m     24\u001b[39m \u001b[38;5;28mprint\u001b[39m(\u001b[33m\"\u001b[39m\u001b[33mDados transformados:\u001b[39m\u001b[33m\"\u001b[39m)\n\u001b[32m     25\u001b[39m display(df.head())\n",
      "\u001b[36mCell\u001b[39m\u001b[36m \u001b[39m\u001b[32mIn[14]\u001b[39m\u001b[32m, line 20\u001b[39m, in \u001b[36mtransform_raw_to_df\u001b[39m\u001b[34m(df)\u001b[39m\n\u001b[32m     11\u001b[39m \u001b[38;5;28;01mdef\u001b[39;00m\u001b[38;5;250m \u001b[39m\u001b[34mtransform_raw_to_df\u001b[39m(df):\n\u001b[32m     12\u001b[39m     df = df.rename(columns={\n\u001b[32m     13\u001b[39m         \u001b[33m'\u001b[39m\u001b[33mtemperature\u001b[39m\u001b[33m'\u001b[39m: \u001b[33m'\u001b[39m\u001b[33mtemperature_celsius\u001b[39m\u001b[33m'\u001b[39m,\n\u001b[32m     14\u001b[39m         \u001b[33m'\u001b[39m\u001b[33mwindspeed\u001b[39m\u001b[33m'\u001b[39m: \u001b[33m'\u001b[39m\u001b[33mwind_speed_kmh\u001b[39m\u001b[33m'\u001b[39m,\n\u001b[32m   (...)\u001b[39m\u001b[32m     18\u001b[39m         \u001b[33m'\u001b[39m\u001b[33minterval\u001b[39m\u001b[33m'\u001b[39m: \u001b[33m'\u001b[39m\u001b[33minterval_seconds\u001b[39m\u001b[33m'\u001b[39m\n\u001b[32m     19\u001b[39m     })\n\u001b[32m---> \u001b[39m\u001b[32m20\u001b[39m     df[\u001b[33m'\u001b[39m\u001b[33mmeasurement_datetime\u001b[39m\u001b[33m'\u001b[39m] = pd.to_datetime(\u001b[43mdf\u001b[49m\u001b[43m[\u001b[49m\u001b[33;43m'\u001b[39;49m\u001b[33;43mmeasurement_datetime\u001b[39;49m\u001b[33;43m'\u001b[39;49m\u001b[43m]\u001b[49m)\n\u001b[32m     21\u001b[39m     \u001b[38;5;28;01mreturn\u001b[39;00m df\n",
      "\u001b[36mFile \u001b[39m\u001b[32mc:\\Users\\tiago\\Desktop\\Asimov\\Engenheiro_de_dados\\Projetos\\dados-climaticos-etl-natal\\envetl\\Lib\\site-packages\\pandas\\core\\frame.py:4107\u001b[39m, in \u001b[36mDataFrame.__getitem__\u001b[39m\u001b[34m(self, key)\u001b[39m\n\u001b[32m   4105\u001b[39m \u001b[38;5;28;01mif\u001b[39;00m \u001b[38;5;28mself\u001b[39m.columns.nlevels > \u001b[32m1\u001b[39m:\n\u001b[32m   4106\u001b[39m     \u001b[38;5;28;01mreturn\u001b[39;00m \u001b[38;5;28mself\u001b[39m._getitem_multilevel(key)\n\u001b[32m-> \u001b[39m\u001b[32m4107\u001b[39m indexer = \u001b[38;5;28;43mself\u001b[39;49m\u001b[43m.\u001b[49m\u001b[43mcolumns\u001b[49m\u001b[43m.\u001b[49m\u001b[43mget_loc\u001b[49m\u001b[43m(\u001b[49m\u001b[43mkey\u001b[49m\u001b[43m)\u001b[49m\n\u001b[32m   4108\u001b[39m \u001b[38;5;28;01mif\u001b[39;00m is_integer(indexer):\n\u001b[32m   4109\u001b[39m     indexer = [indexer]\n",
      "\u001b[36mFile \u001b[39m\u001b[32mc:\\Users\\tiago\\Desktop\\Asimov\\Engenheiro_de_dados\\Projetos\\dados-climaticos-etl-natal\\envetl\\Lib\\site-packages\\pandas\\core\\indexes\\base.py:3819\u001b[39m, in \u001b[36mIndex.get_loc\u001b[39m\u001b[34m(self, key)\u001b[39m\n\u001b[32m   3814\u001b[39m     \u001b[38;5;28;01mif\u001b[39;00m \u001b[38;5;28misinstance\u001b[39m(casted_key, \u001b[38;5;28mslice\u001b[39m) \u001b[38;5;129;01mor\u001b[39;00m (\n\u001b[32m   3815\u001b[39m         \u001b[38;5;28misinstance\u001b[39m(casted_key, abc.Iterable)\n\u001b[32m   3816\u001b[39m         \u001b[38;5;129;01mand\u001b[39;00m \u001b[38;5;28many\u001b[39m(\u001b[38;5;28misinstance\u001b[39m(x, \u001b[38;5;28mslice\u001b[39m) \u001b[38;5;28;01mfor\u001b[39;00m x \u001b[38;5;129;01min\u001b[39;00m casted_key)\n\u001b[32m   3817\u001b[39m     ):\n\u001b[32m   3818\u001b[39m         \u001b[38;5;28;01mraise\u001b[39;00m InvalidIndexError(key)\n\u001b[32m-> \u001b[39m\u001b[32m3819\u001b[39m     \u001b[38;5;28;01mraise\u001b[39;00m \u001b[38;5;167;01mKeyError\u001b[39;00m(key) \u001b[38;5;28;01mfrom\u001b[39;00m\u001b[38;5;250m \u001b[39m\u001b[34;01merr\u001b[39;00m\n\u001b[32m   3820\u001b[39m \u001b[38;5;28;01mexcept\u001b[39;00m \u001b[38;5;167;01mTypeError\u001b[39;00m:\n\u001b[32m   3821\u001b[39m     \u001b[38;5;66;03m# If we have a listlike key, _check_indexing_error will raise\u001b[39;00m\n\u001b[32m   3822\u001b[39m     \u001b[38;5;66;03m#  InvalidIndexError. Otherwise we fall through and re-raise\u001b[39;00m\n\u001b[32m   3823\u001b[39m     \u001b[38;5;66;03m#  the TypeError.\u001b[39;00m\n\u001b[32m   3824\u001b[39m     \u001b[38;5;28mself\u001b[39m._check_indexing_error(key)\n",
      "\u001b[31mKeyError\u001b[39m: 'measurement_datetime'"
     ]
    }
   ],
   "source": [
    "\n",
    "def load_latest_json(data_dir):\n",
    "    files = sorted(data_dir.glob(\"*.json\"), reverse=True)\n",
    "    if not files:\n",
    "        raise FileNotFoundError(\"Nenhum arquivo JSON encontrado no diretório.\")\n",
    "    return pd.read_json(files[0], orient='records')\n",
    "\n",
    "raw_df = load_latest_json(RAW_DATA_DIR)\n",
    "print(\"Dados brutos carregados:\")\n",
    "display(raw_df.head())\n",
    "\n",
    "def transform_raw_to_df(df):\n",
    "    df = df.rename(columns={\n",
    "        'temperature': 'temperature_celsius',\n",
    "        'windspeed': 'wind_speed_kmh',\n",
    "        'winddirection': 'wind_direction_degrees',\n",
    "        'weathercode': 'weather_condition_code',\n",
    "        'time': 'measurement_datetime',\n",
    "        'interval': 'interval_seconds'\n",
    "    })\n",
    "    df['measurement_datetime'] = pd.to_datetime(df['measurement_datetime'])\n",
    "    return df\n",
    "\n",
    "df = transform_raw_to_df(raw_df)\n",
    "print(\"Dados transformados:\")\n",
    "display(df.head())\n"
   ]
  },
  {
   "cell_type": "markdown",
   "id": "d2580fe3",
   "metadata": {},
   "source": [
    "2. Estatísticas Descritivas"
   ]
  },
  {
   "cell_type": "code",
   "execution_count": 9,
   "id": "a474de6f",
   "metadata": {},
   "outputs": [
    {
     "name": "stdout",
     "output_type": "stream",
     "text": [
      "Estatísticas descritivas gerais:\n"
     ]
    },
    {
     "ename": "NameError",
     "evalue": "name 'df' is not defined",
     "output_type": "error",
     "traceback": [
      "\u001b[31m---------------------------------------------------------------------------\u001b[39m",
      "\u001b[31mNameError\u001b[39m                                 Traceback (most recent call last)",
      "\u001b[36mCell\u001b[39m\u001b[36m \u001b[39m\u001b[32mIn[9]\u001b[39m\u001b[32m, line 2\u001b[39m\n\u001b[32m      1\u001b[39m \u001b[38;5;28mprint\u001b[39m(\u001b[33m\"\u001b[39m\u001b[33mEstatísticas descritivas gerais:\u001b[39m\u001b[33m\"\u001b[39m)\n\u001b[32m----> \u001b[39m\u001b[32m2\u001b[39m display(\u001b[43mdf\u001b[49m.describe())\n\u001b[32m      4\u001b[39m \u001b[38;5;28mprint\u001b[39m(\u001b[33m\"\u001b[39m\u001b[33mValores ausentes por coluna:\u001b[39m\u001b[33m\"\u001b[39m)\n\u001b[32m      5\u001b[39m \u001b[38;5;28mprint\u001b[39m(df.isna().sum())\n",
      "\u001b[31mNameError\u001b[39m: name 'df' is not defined"
     ]
    }
   ],
   "source": [
    "print(\"Estatísticas descritivas gerais:\")\n",
    "display(df.describe())\n",
    "\n",
    "print(\"Valores ausentes por coluna:\")\n",
    "print(df.isna().sum())\n"
   ]
  },
  {
   "cell_type": "markdown",
   "id": "1b19919f",
   "metadata": {},
   "source": [
    "3. Visualizações Básicas"
   ]
  },
  {
   "cell_type": "code",
   "execution_count": null,
   "id": "bf50ecca",
   "metadata": {},
   "outputs": [],
   "source": [
    "# Temperatura ao longo do tempo\n",
    "sns.lineplot(data=df, x='measurement_datetime', y='temperature_celsius')\n",
    "plt.title('Temperatura ao longo do tempo')\n",
    "plt.xlabel('Data e Hora')\n",
    "plt.ylabel('Temperatura (°C)')\n",
    "plt.show()\n",
    "\n",
    "# Distribuição velocidade do vento\n",
    "sns.histplot(df['wind_speed_kmh'], bins=30, kde=True)\n",
    "plt.title('Distribuição da Velocidade do Vento')\n",
    "plt.xlabel('Velocidade do Vento (km/h)')\n",
    "plt.show()\n",
    "\n",
    "# Frequência condições climáticas (weather_condition_code)\n",
    "plt.figure(figsize=(14,5))\n",
    "sns.countplot(data=df, x='weather_condition_code', order=df['weather_condition_code'].value_counts().index)\n",
    "plt.title('Frequência das condições climáticas')\n",
    "plt.show()\n"
   ]
  },
  {
   "cell_type": "markdown",
   "id": "5ba7dbf1",
   "metadata": {},
   "source": [
    "4. Detecção de Anomalias Simples"
   ]
  },
  {
   "cell_type": "code",
   "execution_count": null,
   "id": "a5a07123",
   "metadata": {},
   "outputs": [],
   "source": [
    "# Exemplo: temperatura muito alta ou muito baixa\n",
    "temp_mean = df['temperature_celsius'].mean()\n",
    "temp_std = df['temperature_celsius'].std()\n",
    "\n",
    "# Considera anomalia valores fora de 3 desvios padrão\n",
    "anomalias = df[(df['temperature_celsius'] > temp_mean + 3*temp_std) | (df['temperature_celsius'] < temp_mean - 3*temp_std)]\n",
    "print(f\"Encontradas {len(anomalias)} anomalias de temperatura:\")\n",
    "display(anomalias)\n"
   ]
  },
  {
   "cell_type": "markdown",
   "id": "c635a88a",
   "metadata": {},
   "source": [
    "5. Preparação para Modelagem Preditiva"
   ]
  },
  {
   "cell_type": "code",
   "execution_count": null,
   "id": "5ee4f1ae",
   "metadata": {},
   "outputs": [],
   "source": [
    "# Criar features de tempo\n",
    "df['hour'] = df['measurement_datetime'].dt.hour\n",
    "df['dayofweek'] = df['measurement_datetime'].dt.dayofweek\n",
    "\n",
    "# Selecionar colunas para modelo simples\n",
    "features = ['hour', 'dayofweek', 'wind_speed_kmh', 'wind_direction_degrees']\n",
    "target = 'temperature_celsius'\n",
    "\n",
    "# Tratar valores ausentes, se houver\n",
    "df = df.dropna(subset=features + [target])\n",
    "\n",
    "X = df[features]\n",
    "y = df[target]\n",
    "\n",
    "# Dividir dados treino/teste\n",
    "X_train, X_test, y_train, y_test = train_test_split(X, y, test_size=0.2, random_state=42)\n"
   ]
  },
  {
   "cell_type": "markdown",
   "id": "7b2e6841",
   "metadata": {},
   "source": [
    "6. Treinamento e Avaliação do Modelo"
   ]
  },
  {
   "cell_type": "code",
   "execution_count": null,
   "id": "31967756",
   "metadata": {},
   "outputs": [],
   "source": [
    "model = LinearRegression()\n",
    "model.fit(X_train, y_train)\n",
    "\n",
    "y_pred = model.predict(X_test)\n",
    "\n",
    "print(\"Métricas do modelo:\")\n",
    "print(f\"RMSE: {root_mean_squared_error(y_test, y_pred, squared=False):.2f}\")\n",
    "print(f\"R²: {r2_score(y_test, y_pred):.2f}\")\n",
    "\n",
    "# Plot real x previsto\n",
    "plt.scatter(y_test, y_pred, alpha=0.5)\n",
    "plt.plot([y.min(), y.max()], [y.min(), y.max()], 'r--')\n",
    "plt.xlabel(\"Temperatura Real (°C)\")\n",
    "plt.ylabel(\"Temperatura Prevista (°C)\")\n",
    "plt.title(\"Real x Previsto - Modelo Linear\")\n",
    "plt.show()\n"
   ]
  },
  {
   "cell_type": "markdown",
   "id": "5835fbf6",
   "metadata": {},
   "source": [
    "7. Salvando dados processados para análises futuras"
   ]
  },
  {
   "cell_type": "code",
   "execution_count": null,
   "id": "482647b4",
   "metadata": {},
   "outputs": [],
   "source": [
    "df.to_csv(PROCESSED_DATA_DIR / 'processed_weather_data.csv', index=False)\n",
    "print(f\"Dados processados salvos em: {PROCESSED_DATA_DIR / 'processed_weather_data.csv'}\")\n"
   ]
  }
 ],
 "metadata": {
  "kernelspec": {
   "display_name": "envetl",
   "language": "python",
   "name": "python3"
  },
  "language_info": {
   "codemirror_mode": {
    "name": "ipython",
    "version": 3
   },
   "file_extension": ".py",
   "mimetype": "text/x-python",
   "name": "python",
   "nbconvert_exporter": "python",
   "pygments_lexer": "ipython3",
   "version": "3.13.5"
  }
 },
 "nbformat": 4,
 "nbformat_minor": 5
}
